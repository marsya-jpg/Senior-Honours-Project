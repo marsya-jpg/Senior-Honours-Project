{
 "cells": [
  {
   "cell_type": "markdown",
   "metadata": {},
   "source": [
    "# Observational Omega*\n",
    "\n"
   ]
  },
  {
   "cell_type": "code",
   "execution_count": 36,
   "metadata": {},
   "outputs": [],
   "source": [
    "#Constants\n",
    "import numpy as np\n",
    "import matplotlib.pyplot as plt\n",
    "from mpl_toolkits.axes_grid.axislines import SubplotZero\n",
    "e = 2.7182818284\n",
    "\n"
   ]
  },
  {
   "cell_type": "code",
   "execution_count": 37,
   "metadata": {},
   "outputs": [],
   "source": [
    "#Functions for GSMF and number of galaxies against mass\n",
    "\n",
    "def schechter(logM, PHI, logM0, alpha):\n",
    "    exp = e**(-pow(10,logM-logM0))\n",
    "    tenth = pow(10, logM-logM0)\n",
    "    schechter=np.log(10)*PHI*exp*tenth**(alpha+1)\n",
    "    return schechter\n",
    "\n",
    "def num_gal(M, PHI, M0, alpha):\n",
    "    exp = e**-(M/M0)\n",
    "    schechter=PHI*exp*(M/M0)**(alpha+1)\n",
    "    return schechter\n"
   ]
  },
  {
   "cell_type": "markdown",
   "metadata": {},
   "source": [
    "GSMF from physical observation"
   ]
  },
  {
   "cell_type": "code",
   "execution_count": 50,
   "metadata": {},
   "outputs": [
    {
     "name": "stdout",
     "output_type": "stream",
     "text": [
      "[4.69215387e-02 4.68873949e-02 4.68532728e-02 ... 1.61013898e-15\n",
      " 1.40354736e-15 1.22269125e-15]\n",
      "hello\n"
     ]
    },
    {
     "data": {
      "image/png": "[encoded data removed]",
      "text/plain": [
       "<Figure size 432x288 with 1 Axes>"
      ]
     },
     "metadata": {
      "needs_background": "light"
     },
     "output_type": "display_data"
    }
   ],
   "source": [
    "\n",
    "schechter_range = np.linspace(8,12,2000)\n",
    "\n",
    "log_schechter = [x for x in np.log(schechter(schechter_range, PHI=0.0083, logM0=10.525, alpha=-1.155 ))]\n",
    "schechter_val = schechter(schechter_range, PHI=0.0083, logM0=10.525, alpha=-1.155)\n",
    "print(schechter_val)\n",
    "\n",
    "fig = plt.figure(1)\n",
    "ax = SubplotZero(fig, 111)\n",
    "fig.add_subplot(ax)\n",
    "#ax.set_xlim([8,12])\n",
    "#ax.set_ylim([-9,0])\n",
    "plt.plot(schechter_range, schechter_val, 'k')\n",
    "plt.title(\"GSMF (Li & White)\")\n",
    "plt.xlabel(\"log M\")\n",
    "plt.ylabel(\"log phi (h^3 Mpc^-3 logM0^-1)\")\n",
    "plt.yscale(\"log\")\n",
    "print(\"hello\")\n",
    "plt.show()\n",
    "\n",
    "\n",
    "#i have not figure this out\n"
   ]
  },
  {
   "cell_type": "code",
   "execution_count": 3,
   "metadata": {},
   "outputs": [
    {
     "name": "stdout",
     "output_type": "stream",
     "text": [
      "<class 'numpy.ndarray'>\n",
      "43566455531.70875\n"
     ]
    }
   ],
   "source": [
    "#Li, White\n",
    "#z = 0.07\n",
    "\n",
    "schechter_range = np.linspace(8,12,1000)\n",
    "phi = schechter(schechter_range, PHI=0.0083, logM0=10.525, alpha=-1.155) #phi\n",
    "mass = np.linspace(10**8, 10**12, 10000) #mass\n",
    "print(type(phi))\n",
    "\n",
    "rho_star = 0\n",
    "for i in range(len(phi)):\n",
    "    data = phi[i]*mass[i]/10.525\n",
    "    #data = 0.0083*schechter_range[i]*mass[i]\n",
    "    rho_star += data\n",
    "\n",
    "print(rho_star)\n"
   ]
  },
  {
   "cell_type": "code",
   "execution_count": 44,
   "metadata": {},
   "outputs": [
    {
     "name": "stdout",
     "output_type": "stream",
     "text": [
      "1.019295249134929\n",
      "8353603203.333221 rho* \n",
      "0.036678184371441214 omega* at z = 0.07\n"
     ]
    }
   ],
   "source": [
    "#Li, White\n",
    "#z = 0.07\n",
    "\n",
    "rho_crit = 22.7754*10**10\n",
    "e = 2.7182818284\n",
    "M_star = 10**10.525\n",
    "print(10**0.0083)\n",
    "\n",
    "def num_gal(M, PHI=0.0083, M0=M_star, alpha=-1.155):\n",
    "    exp = e**-(M/M0)\n",
    "    schechter=PHI*exp*(M/M0)**(alpha+1)\n",
    "    return schechter\n",
    "\n",
    "mass = np.linspace(10**8, 10**12, 10000) #mass\n",
    "phi = num_gal(mass) #phi\n",
    "\n",
    "rho_star = 0\n",
    "for i in range(len(phi)):\n",
    "    data = phi[i]*mass[i]/10.525\n",
    "    rho_star += data\n",
    "\n",
    "#rho_sta = 3.14*10**8\n",
    "print(rho_star, \"rho* \")\n",
    "omega_star = rho_star/rho_crit\n",
    "print(omega_star, \"omega* at z = 0.07\")"
   ]
  },
  {
   "cell_type": "code",
   "execution_count": 8,
   "metadata": {},
   "outputs": [
    {
     "name": "stdout",
     "output_type": "stream",
     "text": [
      "233495004.3776055 rho*\n",
      "0.0010252070408317989 omega* at z=0.2 \n"
     ]
    }
   ],
   "source": [
    "#Baldry\n",
    "phi_val = [31.1, 18.1, 17.9, 43.1, 31.6, 34.8, 27.3, 28.3, 23.5, 19.2, 18.0, 14.3, 10.2, 9.59, 7.42, 6.21, 5.71, 5.51, 5.48, 5.12, 3.55, 2.41, 1.27, 0.338, 0.042, 0.021, 0.042]\n",
    "phi_err = [21.6, 6.6, 5.7, 8.7, 9.0, 8.4, 4.2, 2.8, 3.0, 1.2, 2.6, 1.7, 0.6, 0.55, 0.41, 0.37, 0.35, 0.34, 0.34, 0.33, 0.27, 0.23, 0.16, 0.085, 0.030, 0.021, 0.030]\n",
    "bin = [0.5, 0.5, 0.2, 0.2, 0.2, 0.2, 0.2, 0.2, 0.2, 0.2, 0.2, 0.2, 0.2, 0.2, 0.2, 0.2, 0.2, 0.2, 0.2, 0.2, 0.2, 0.2, 0.2, 0.2, 0.2, 0.2, 0.2]\n",
    "logM = [6.25, 6.75, 7.10, 7.30, 7.50, 7.70, 7.90, 8.10, 8.30, 8.50, 8.70, 8.90, 9.10, 9.30, 9.50, 9.70, 9.90, 10.10, 10.30, 10.50, 10.70, 10.90, 11.10, 11.30, 11.50, 11.70, 11.90]\n",
    "M = []\n",
    "phi = []\n",
    "rho_star = 0\n",
    "rho_crit = 22.7754*10**10\n",
    "\n",
    "for i in range(len(logM)):\n",
    "    m = 10**logM[i]\n",
    "    M.append(m)\n",
    "    p = phi_val[i]*10**-3\n",
    "    phi.append(p)\n",
    "\n",
    "for i in range(len(phi)):\n",
    "    rho = phi[i]*M[i]*bin[i]\n",
    "    rho_star += rho\n",
    "\n",
    "omega_star = rho_star/rho_crit\n",
    "print(rho_star, \"rho*\")\n",
    "print(omega_star, \"omega* at z=0.2 \")\n"
   ]
  },
  {
   "cell_type": "code",
   "execution_count": 51,
   "metadata": {},
   "outputs": [
    {
     "name": "stdout",
     "output_type": "stream",
     "text": [
      "[1.00000000e+07 1.10009001e+08 2.10018002e+08 ... 9.99799982e+11\n",
      " 9.99899991e+11 1.00000000e+12] mass\n",
      "[1.70161119e-02 9.98231098e-03 8.63883223e-03 ... 6.31610077e-08\n",
      " 6.30967854e-08 6.30326286e-08] phi\n"
     ]
    },
    {
     "ename": "TypeError",
     "evalue": "'numpy.ndarray' object is not callable",
     "output_type": "error",
     "traceback": [
      "\u001b[1;31m---------------------------------------------------------------------------\u001b[0m",
      "\u001b[1;31mTypeError\u001b[0m                                 Traceback (most recent call last)",
      "\u001b[1;32m<ipython-input-51-cc1443b18c52>\u001b[0m in \u001b[0;36m<module>\u001b[1;34m\u001b[0m\n\u001b[0;32m     22\u001b[0m \u001b[0mprint\u001b[0m\u001b[1;33m(\u001b[0m\u001b[0mphi\u001b[0m\u001b[1;33m,\u001b[0m \u001b[1;34m\"phi\"\u001b[0m\u001b[1;33m)\u001b[0m\u001b[1;33m\u001b[0m\u001b[1;33m\u001b[0m\u001b[0m\n\u001b[0;32m     23\u001b[0m \u001b[0mrho_star\u001b[0m \u001b[1;33m=\u001b[0m \u001b[1;36m0\u001b[0m\u001b[1;33m\u001b[0m\u001b[1;33m\u001b[0m\u001b[0m\n\u001b[1;32m---> 24\u001b[1;33m \u001b[1;32mfor\u001b[0m \u001b[0mi\u001b[0m \u001b[1;32min\u001b[0m \u001b[0mrange\u001b[0m\u001b[1;33m(\u001b[0m\u001b[0mlen\u001b[0m\u001b[1;33m(\u001b[0m\u001b[0mphi\u001b[0m\u001b[1;33m)\u001b[0m\u001b[1;33m)\u001b[0m\u001b[1;33m:\u001b[0m\u001b[1;33m\u001b[0m\u001b[1;33m\u001b[0m\u001b[0m\n\u001b[0m\u001b[0;32m     25\u001b[0m     \u001b[0mdata\u001b[0m \u001b[1;33m=\u001b[0m \u001b[0mphi\u001b[0m\u001b[1;33m[\u001b[0m\u001b[0mi\u001b[0m\u001b[1;33m]\u001b[0m\u001b[1;33m*\u001b[0m\u001b[0mmass\u001b[0m\u001b[1;33m[\u001b[0m\u001b[0mi\u001b[0m\u001b[1;33m]\u001b[0m\u001b[1;33m*\u001b[0m\u001b[0mlog_M\u001b[0m\u001b[1;33m\u001b[0m\u001b[1;33m\u001b[0m\u001b[0m\n\u001b[0;32m     26\u001b[0m     \u001b[0mrho_star\u001b[0m \u001b[1;33m+=\u001b[0m \u001b[0mdata\u001b[0m\u001b[1;33m\u001b[0m\u001b[1;33m\u001b[0m\u001b[0m\n",
      "\u001b[1;31mTypeError\u001b[0m: 'numpy.ndarray' object is not callable"
     ]
    }
   ],
   "source": [
    "#Panter 2007\n",
    "import numpy as np\n",
    "import matplotlib.pyplot as plt\n",
    "from mpl_toolkits.axes_grid.axislines import SubplotZero\n",
    "#z = 0.1\n",
    "\n",
    "rho_crit = 22.7754*10**10\n",
    "e = 2.7182818284\n",
    "M_star = 1.005*10**11\n",
    "log_M = np.log10(M_star)\n",
    "\n",
    "def num_gal(M, PHI=0.0022, M0=M_star, alpha=-1.222):\n",
    "    exp = e**-(M/M0)\n",
    "    schechter=PHI*exp*(M/M0)**(alpha+1)\n",
    "    return schechter\n",
    "\n",
    "mass = np.linspace(10**7, 10**12, 10000) #mass\n",
    "phi = num_gal(mass) #phi\n",
    "\n",
    "\n",
    "print(mass, \"mass\")\n",
    "print(phi, \"phi\")\n",
    "rho_star = 0\n",
    "for i in range(len(phi)):\n",
    "    data = phi[i]*mass[i]*log_M\n",
    "    rho_star += data\n",
    "\n",
    "    \n",
    "print(rho_star, \"rho* \")\n",
    "omega_star = rho_star/rho_crit\n",
    "print(omega_star, \"omega* at z = 0.1\")\n",
    "\n",
    "#Plotting the GSMF\n",
    "\n",
    "schechter_range = np.linspace(8.5,12,2000)\n",
    "gsmf = schechter(schechter_range, PHI=0.0022, logM0=log_M, alpha=-1.222 )\n",
    "for i in np.arange(len(schechter_range)):\n",
    "    data = gsmf[i]/schechter_range[i]\n",
    "\n",
    "\n",
    "fig = plt.figure(1)\n",
    "ax = SubplotZero(fig, 111)\n",
    "fig.add_subplot(ax)\n",
    "ax.set_xlim([8,12])\n",
    "ax.plot(schechter_range, gsmf, 'k')\n",
    "plt.title(\"GSMF (Panter)\")\n",
    "plt.xlabel(\"log M\")\n",
    "plt.ylabel(\"phi (h^3 Mpc^-3 logM0^-1)\")\n",
    "plt.yscale(\"log\")\n",
    "plt.show()\n",
    "\n",
    "#checked"
   ]
  },
  {
   "cell_type": "code",
   "execution_count": 55,
   "metadata": {},
   "outputs": [
    {
     "name": "stdout",
     "output_type": "stream",
     "text": [
      "[287739841.47356665, 287739841.47356665, 287078058.2024692, 284446110.744792, 267300640.8663309, 230144181.7408509, 166724721.2551061] rho_star\n",
      "[0.0012633799690612093, 0.0012633799690612093, 0.0012604742757645058, 0.001248918178143049, 0.0011736375249889394, 0.001010494576344876, 0.0007320386085649696] omega_star\n"
     ]
    }
   ],
   "source": [
    "#Panter 2007\n",
    "#SDSS- DR3\n",
    "\n",
    "\n",
    "z = [0.0130, 0.0272, 0.0575, 0.125, 0.286, 0.705, 1.87]\n",
    "#stellar mass density\n",
    "rho = [8.459, 8.459, 8.458, 8.454, 8.427, 8.362, 8.222]\n",
    "rho_star = []\n",
    "omega_star = []\n",
    "rho_crit = 22.7754*10**10\n",
    "\n",
    "for i in np.arange(len(rho)):\n",
    "    data = 10**rho[i]\n",
    "    rho_star.append(data)\n",
    "    \n",
    "for i in np.arange(len(z)):\n",
    "    omega = rho_star[i]/rho_crit\n",
    "    omega_star.append(omega)\n",
    "\n",
    "print(rho_star, \"rho_star\")\n",
    "print(omega_star, \"omega_star\")\n",
    "\n",
    "#CHECK VOLUME? yes universe"
   ]
  },
  {
   "cell_type": "code",
   "execution_count": 49,
   "metadata": {},
   "outputs": [
    {
     "name": "stdout",
     "output_type": "stream",
     "text": [
      "5\n",
      "[301995172.0402019, 218776162.3949552, 208929613.0854041, 213796208.95022324, 147910838.8168207]\n"
     ]
    },
    {
     "data": {
      "image/png": "[encoded data removed]",
      "text/plain": [
       "<Figure size 432x288 with 1 Axes>"
      ]
     },
     "metadata": {
      "needs_background": "light"
     },
     "output_type": "display_data"
    },
    {
     "name": "stdout",
     "output_type": "stream",
     "text": [
      "8.48\n",
      "8.34\n",
      "8.32\n",
      "8.33\n",
      "8.17\n"
     ]
    }
   ],
   "source": [
    "#Borch 2006\n",
    "#For all galaxies\n",
    "#Combo-17 survey\n",
    "z = [0.0, 0.3, 0.5, 0.7, 0.9]\n",
    "log_rho = [8.48, 8.34, 8.32, 8.33, 8.17]\n",
    "log_rho_err = [0.10, 0.15, 0.11, 0.10, 0.18]\n",
    "rho_star = []\n",
    "omega_star = []\n",
    "rho_crit = 22.7754*10**10\n",
    "\n",
    "print(len(log_rho))\n",
    "for i in np.arange(len(log_rho)):\n",
    "    rho = 10**log_rho[i]\n",
    "    rho_star.append(rho)\n",
    "    omega = rho/rho_crit\n",
    "    omega_star.append(omega)\n",
    "\n",
    "print(rho_star)\n",
    "\n",
    "#for z =0.3\n",
    "range = np.linspace(9,12,2000)\n",
    "gsmf = schechter(range, PHI=0.0019, logM0=11.03,alpha=-1.1)\n",
    "\n",
    "fig = plt.figure(1)\n",
    "ax = SubplotZero(fig, 111)\n",
    "fig.add_subplot(ax)\n",
    "ax.set_xlim([9,12])\n",
    "#ax.set_ylim([-5,-1])\n",
    "ax.plot(range, gsmf, 'k')\n",
    "plt.title(\"GSMF (Borch) for z=0.3\")\n",
    "plt.xlabel(\"log M\")\n",
    "plt.ylabel(\"phi (h^3 Mpc^-3 logM0^-1)\")\n",
    "plt.yscale(\"log\")\n",
    "plt.show()\n",
    "\n",
    "\n",
    "#checked\n",
    "\n",
    "for i in np.arange(len(rho_star)):\n",
    "    data = np.log10(rho_star[i])\n",
    "    print(data)"
   ]
  },
  {
   "cell_type": "code",
   "execution_count": 6,
   "metadata": {},
   "outputs": [
    {
     "name": "stdout",
     "output_type": "stream",
     "text": [
      "-2392.5282501900347\n"
     ]
    },
    {
     "ename": "TypeError",
     "evalue": "'numpy.ndarray' object is not callable",
     "output_type": "error",
     "traceback": [
      "\u001b[1;31m---------------------------------------------------------------------------\u001b[0m",
      "\u001b[1;31mTypeError\u001b[0m                                 Traceback (most recent call last)",
      "\u001b[1;32m<ipython-input-6-74468ded3266>\u001b[0m in \u001b[0;36m<module>\u001b[1;34m\u001b[0m\n\u001b[0;32m     13\u001b[0m \u001b[0mprint\u001b[0m\u001b[1;33m(\u001b[0m\u001b[0mnp\u001b[0m\u001b[1;33m.\u001b[0m\u001b[0msum\u001b[0m\u001b[1;33m(\u001b[0m\u001b[0mdouble_num_gal\u001b[0m\u001b[1;33m(\u001b[0m\u001b[0mmass\u001b[0m\u001b[1;33m)\u001b[0m\u001b[1;33m)\u001b[0m\u001b[1;33m)\u001b[0m\u001b[1;33m\u001b[0m\u001b[1;33m\u001b[0m\u001b[0m\n\u001b[0;32m     14\u001b[0m \u001b[0mtotal_mass\u001b[0m \u001b[1;33m=\u001b[0m \u001b[1;33m[\u001b[0m\u001b[1;33m]\u001b[0m\u001b[1;33m\u001b[0m\u001b[1;33m\u001b[0m\u001b[0m\n\u001b[1;32m---> 15\u001b[1;33m \u001b[1;32mfor\u001b[0m \u001b[0mi\u001b[0m \u001b[1;32min\u001b[0m \u001b[0mrange\u001b[0m\u001b[1;33m(\u001b[0m\u001b[0mlen\u001b[0m\u001b[1;33m(\u001b[0m\u001b[0mdouble_num_gal\u001b[0m\u001b[1;33m(\u001b[0m\u001b[0mmass\u001b[0m\u001b[1;33m)\u001b[0m\u001b[1;33m)\u001b[0m\u001b[1;33m)\u001b[0m\u001b[1;33m:\u001b[0m\u001b[1;33m\u001b[0m\u001b[1;33m\u001b[0m\u001b[0m\n\u001b[0m\u001b[0;32m     16\u001b[0m     \u001b[0mtotal_mass\u001b[0m\u001b[1;33m+=\u001b[0m\u001b[0mdouble_num_gal\u001b[0m\u001b[1;33m(\u001b[0m\u001b[0mmass\u001b[0m\u001b[1;33m)\u001b[0m\u001b[1;33m[\u001b[0m\u001b[0mi\u001b[0m\u001b[1;33m]\u001b[0m\u001b[1;33m\u001b[0m\u001b[1;33m\u001b[0m\u001b[0m\n",
      "\u001b[1;31mTypeError\u001b[0m: 'numpy.ndarray' object is not callable"
     ]
    }
   ],
   "source": [
    "import math\n",
    "import numpy as np\n",
    "\n",
    "def double_num_gal(M, alpha1=-0.74, alpha2=-1.75, M0=10.79, phi1=-2.44, phi2=-3.69):\n",
    "    exp = e**-(M/M0)\n",
    "    schechter1 = phi1*exp*(M/M0)**(alpha1+1)\n",
    "    schechter2 = phi2*exp*(M/M0)**(alpha2+1)\n",
    "    num_gal = schechter1 + schechter2\n",
    "    return num_gal\n",
    "\n",
    "mass = np.linspace(8, 13, 1000)\n",
    "\n",
    "print(np.sum(double_num_gal(mass)))\n",
    "total_mass = []\n",
    "for i in range(len(double_num_gal(mass))):\n",
    "    total_mass+=double_num_gal(mass)[i]"
   ]
  },
  {
   "cell_type": "code",
   "execution_count": 53,
   "metadata": {},
   "outputs": [
    {
     "data": {
      "image/png": "[encoded data removed]",
      "text/plain": [
       "<Figure size 432x288 with 1 Axes>"
      ]
     },
     "metadata": {
      "needs_background": "light"
     },
     "output_type": "display_data"
    },
    {
     "name": "stdout",
     "output_type": "stream",
     "text": [
      "588686988.8061355 rho* \n",
      "0.0025847492856596833 omega* at z = 6\n"
     ]
    }
   ],
   "source": [
    "#Song M z=6\n",
    "phi = 10**-4.87\n",
    "\n",
    "schechter_range = np.linspace(7,11,2000)\n",
    "gsmf = schechter(schechter_range, PHI=phi, logM0=10.72, alpha=-1.91)\n",
    "\n",
    "fig = plt.figure(1)\n",
    "ax = SubplotZero(fig, 111)\n",
    "fig.add_subplot(ax)\n",
    "\n",
    "ax.plot(schechter_range, gsmf, 'k')\n",
    "plt.title(\"GSMF (Song, M)\")\n",
    "plt.xlabel(\"log M\")\n",
    "plt.ylabel(\"log phi (h^3 Mpc^-3 logM0^-1)\")\n",
    "plt.yscale('log')\n",
    "plt.show()\n",
    "\n",
    "mass = np.linspace(10**7, 10**11, 2000)\n",
    "phi = num_gal(mass, PHI=phi, M0=10**10.72, alpha=-1.91)\n",
    "\n",
    "rho_star = 0\n",
    "for i in range(len(phi)):\n",
    "    data = phi[i]*mass[i]\n",
    "    rho_star += data\n",
    "\n",
    "print(rho_star, \"rho* \")\n",
    "omega_star = rho_star/rho_crit\n",
    "print(omega_star, \"omega* at z = 6\")\n",
    "\n",
    "\n"
   ]
  },
  {
   "cell_type": "code",
   "execution_count": 52,
   "metadata": {},
   "outputs": [
    {
     "data": {
      "image/png": "[encoded data removed]",
      "text/plain": [
       "<Figure size 432x288 with 1 Axes>"
      ]
     },
     "metadata": {
      "needs_background": "light"
     },
     "output_type": "display_data"
    },
    {
     "name": "stdout",
     "output_type": "stream",
     "text": [
      "4140789393.3089294 rho* \n",
      "0.018180973301496043 omega* at z = 4\n"
     ]
    }
   ],
   "source": [
    "#Song M  z=4\n",
    "phi = 10**-3.59\n",
    "\n",
    "schechter_range = np.linspace(7,11,2000)\n",
    "gsmf = schechter(schechter_range, PHI=phi, logM0=10.50, alpha=-1.55)\n",
    "\n",
    "fig = plt.figure(1)\n",
    "ax = SubplotZero(fig, 111)\n",
    "fig.add_subplot(ax)\n",
    "\n",
    "ax.plot(schechter_range, gsmf, 'k')\n",
    "plt.title(\"GSMF (Song, M)\")\n",
    "plt.xlabel(\"log M\")\n",
    "plt.ylabel(\"log phi (h^3 Mpc^-3 logM0^-1)\")\n",
    "plt.yscale('log')\n",
    "plt.show()\n",
    "\n",
    "mass = np.linspace(10**7, 10**11, 2000)\n",
    "phi = num_gal(mass, PHI=phi, M0=10**10.50, alpha=-1.55)\n",
    "\n",
    "rho_star = 0\n",
    "for i in range(len(phi)):\n",
    "    data = phi[i]*mass[i]\n",
    "    rho_star += data\n",
    "\n",
    "print(rho_star, \"rho* \")\n",
    "omega_star = rho_star/rho_crit\n",
    "print(omega_star, \"omega* at z = 4\")"
   ]
  },
  {
   "cell_type": "code",
   "execution_count": 51,
   "metadata": {},
   "outputs": [
    {
     "data": {
      "image/png": "[encoded data removed]",
      "text/plain": [
       "<Figure size 432x288 with 1 Axes>"
      ]
     },
     "metadata": {
      "needs_background": "light"
     },
     "output_type": "display_data"
    },
    {
     "name": "stdout",
     "output_type": "stream",
     "text": [
      "21238074.818151157 rho* \n",
      "9.325006286673848e-05 omega* at z = 8\n"
     ]
    }
   ],
   "source": [
    "#Song M  z=4\n",
    "phi = 10**-6.46\n",
    "\n",
    "schechter_range = np.linspace(7,11,2000)\n",
    "gsmf = schechter(schechter_range, PHI=phi, logM0=10.72, alpha=-2.25)\n",
    "\n",
    "fig = plt.figure(1)\n",
    "ax = SubplotZero(fig, 111)\n",
    "fig.add_subplot(ax)\n",
    "\n",
    "ax.plot(schechter_range, gsmf, 'k')\n",
    "plt.title(\"GSMF (Song, M)\")\n",
    "plt.xlabel(\"log M\")\n",
    "plt.ylabel(\"log phi (h^3 Mpc^-3 logM0^-1)\")\n",
    "plt.yscale('log')\n",
    "plt.show()\n",
    "\n",
    "mass = np.linspace(10**7, 10**11, 2000)\n",
    "phi = num_gal(mass, PHI=phi, M0=10**10.72, alpha=-2.25)\n",
    "\n",
    "rho_star = 0\n",
    "for i in range(len(phi)):\n",
    "    data = phi[i]*mass[i]\n",
    "    rho_star += data\n",
    "\n",
    "print(rho_star, \"rho* \")\n",
    "omega_star = rho_star/rho_crit\n",
    "print(omega_star, \"omega* at z = 8\")"
   ]
  },
  {
   "cell_type": "code",
   "execution_count": 50,
   "metadata": {
    "scrolled": true
   },
   "outputs": [
    {
     "data": {
      "image/png": "[encoded data removed]",
      "text/plain": [
       "<Figure size 432x288 with 1 Axes>"
      ]
     },
     "metadata": {
      "needs_background": "light"
     },
     "output_type": "display_data"
    },
    {
     "name": "stdout",
     "output_type": "stream",
     "text": [
      "4283498037.3861065 rho* \n",
      "0.018807564465985697 omega* at z = 5\n"
     ]
    }
   ],
   "source": [
    "#Song M  z=5\n",
    "phi = 10**-4.29\n",
    "\n",
    "schechter_range = np.linspace(7,11,2000)\n",
    "gsmf = schechter(schechter_range, PHI=phi, logM0=10.97, alpha=-1.70)\n",
    "\n",
    "fig = plt.figure(1)\n",
    "ax = SubplotZero(fig, 111)\n",
    "fig.add_subplot(ax)\n",
    "\n",
    "ax.plot(schechter_range, gsmf, 'k')\n",
    "plt.title(\"GSMF (Song, M)\")\n",
    "plt.xlabel(\"log M\")\n",
    "plt.ylabel(\"log phi (h^3 Mpc^-3 logM0^-1)\")\n",
    "plt.yscale('log')\n",
    "plt.show()\n",
    "\n",
    "mass = np.linspace(10**7, 10**11, 2000)\n",
    "phi = num_gal(mass, PHI=phi, M0=10**10.97, alpha=-1.70)\n",
    "\n",
    "rho_star = 0\n",
    "for i in range(len(phi)):\n",
    "    data = phi[i]*mass[i]\n",
    "    rho_star += data\n",
    "\n",
    "print(rho_star, \"rho* \")\n",
    "omega_star = rho_star/rho_crit\n",
    "print(omega_star, \"omega* at z = 5\")"
   ]
  },
  {
   "cell_type": "markdown",
   "metadata": {},
   "source": [
    "Plotting all physical observation of omega*"
   ]
  },
  {
   "cell_type": "code",
   "execution_count": 49,
   "metadata": {},
   "outputs": [
    {
     "data": {
      "image/png": "[encoded data removed]",
      "text/plain": [
       "<Figure size 432x288 with 1 Axes>"
      ]
     },
     "metadata": {
      "needs_background": "light"
     },
     "output_type": "display_data"
    }
   ],
   "source": [
    "\n",
    "omega = []\n",
    "z = []\n",
    "\n",
    "myfile = open(\"obs_omega_star.txt\")\n",
    "\n",
    "for i in myfile:\n",
    "    val = myfile.readlines() #Lists each star values in a list\n",
    "    for line in val: #Splitting redshift and stellar mass\n",
    "        data = line.split(\" \")\n",
    "        data_z = float(data[0])\n",
    "        data_omega = float(data[1])\n",
    "        z.append(data_z)\n",
    "        omega.append(data_omega)\n",
    "\n",
    "plt.scatter(z, omega, 2)\n",
    "plt.xlabel(\"Redshift\")\n",
    "plt.ylabel(\"Omega\")\n",
    "plt.show()"
   ]
  },
  {
   "cell_type": "code",
   "execution_count": null,
   "metadata": {},
   "outputs": [],
   "source": []
  }
 ],
 "metadata": {
  "kernelspec": {
   "display_name": "Python 3",
   "language": "python",
   "name": "python3"
  },
  "language_info": {
   "codemirror_mode": {
    "name": "ipython",
    "version": 3
   },
   "file_extension": ".py",
   "mimetype": "text/x-python",
   "name": "python",
   "nbconvert_exporter": "python",
   "pygments_lexer": "ipython3",
   "version": "3.8.3"
  }
 },
 "nbformat": 4,
 "nbformat_minor": 4
}
